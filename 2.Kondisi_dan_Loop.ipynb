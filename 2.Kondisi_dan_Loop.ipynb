{
 "cells": [
  {
   "cell_type": "markdown",
   "id": "31c90e85",
   "metadata": {},
   "source": [
    " # Condition dan Loop\n",
    " Oleh: Nalendra Dwimantara\n",
    " \n",
    " Outline:\n",
    " \n",
    " 1. if else\n",
    " 2. if elif\n",
    " 3. for \n",
    " 4. while\n",
    " 5. NASTED LOOP\n",
    " \n",
    "Pengambilan keputusan (Condition) digunakan untuk mengantisipasi kondisi yang terjadi saat jalanya program dan menentukan tindakan apa yang akan diambil sesuai dengan kondisi.\n",
    "\n",
    "Secara umum, pernyataan pada bahasa pemrograman akan dieksekusi secara berurutan. Pernyataan pertama dalam sebuah fungsi dijalankan pertama, diikuti oleh yang kedua, dan seterusnya. Tetapi akan ada situasi dimana Anda harus menulis banyak kode, dimana kode tersebut sangat banyak. Jika dilakukan secara manual maka Anda hanya akan membuang-buang tenaga dengan menulis beratus-ratus bahkan beribu-ribu kode. Untuk itu Anda perlu menggunakan pengulangan (LOOP) di dalam bahasa pemrograman Python."
   ]
  },
  {
   "cell_type": "markdown",
   "id": "cb48564b",
   "metadata": {},
   "source": [
    "\n",
    "## 1. if else\n",
    "\n",
    "Pengambilan keputusan (kondisi if else) tidak hanya digunakan untuk menentukan tindakan apa yang akan diambil sesuai dengan kondisi, tetapi juga digunakan untuk menentukan tindakan apa yang akan diambil/dijalankan jika kondisi tidak sesuai."
   ]
  },
  {
   "cell_type": "code",
   "execution_count": 10,
   "id": "a2e16969",
   "metadata": {},
   "outputs": [],
   "source": [
    "nilai = 80"
   ]
  },
  {
   "cell_type": "code",
   "execution_count": 11,
   "id": "474dd23f",
   "metadata": {},
   "outputs": [
    {
     "name": "stdout",
     "output_type": "stream",
     "text": [
      "Belajar Lagi Yaa Nak\n"
     ]
    }
   ],
   "source": [
    "if(nilai > 76):\n",
    "    print(\"Selamat Anda Lulus\")\n",
    "else:\n",
    "    print(\"Belajar Lagi Yaa Nak\")"
   ]
  },
  {
   "cell_type": "markdown",
   "id": "1db3d603",
   "metadata": {},
   "source": [
    "\n",
    "## 2. if elif\n",
    "Pengambilan keputusan (kondisi if elif) merupakan lanjutan/percabangan logika dari \"kondisi if\". Dengan elif kita bisa membuat kode program yang akan menyeleksi beberapa kemungkinan yang bisa terjadi. Hampir sama dengan kondisi \"else\", bedanya kondisi \"elif\" bisa banyak dan tidak hanya satu."
   ]
  },
  {
   "cell_type": "code",
   "execution_count": 16,
   "id": "52b8fec5",
   "metadata": {},
   "outputs": [],
   "source": [
    "harga = 20000"
   ]
  },
  {
   "cell_type": "code",
   "execution_count": 17,
   "id": "956ab206",
   "metadata": {},
   "outputs": [
    {
     "name": "stdout",
     "output_type": "stream",
     "text": [
      "Murah Banget\n"
     ]
    }
   ],
   "source": [
    "if(harga < 20000):\n",
    "    print(\"Murah Banget\")\n",
    "elif(harga == 20000):\n",
    "    print(\"Deal!\")\n",
    "elif(harga > 20000):\n",
    "    print(\"Kemahalan Boss\")"
   ]
  },
  {
   "cell_type": "markdown",
   "id": "b5d81482",
   "metadata": {},
   "source": [
    "\n",
    "## 3. for\n",
    "Pengulangan for pada Python memiliki kemampuan untuk mengulangi item dari urutan apapun, seperti list atau string"
   ]
  },
  {
   "cell_type": "code",
   "execution_count": null,
   "id": "617bab4e",
   "metadata": {},
   "outputs": [],
   "source": [
    "angka = [1,2,3,4,5]"
   ]
  },
  {
   "cell_type": "code",
   "execution_count": null,
   "id": "e98c8fea",
   "metadata": {},
   "outputs": [],
   "source": [
    "for x in angka:\n",
    "    print(x)"
   ]
  },
  {
   "cell_type": "code",
   "execution_count": null,
   "id": "380575dd",
   "metadata": {},
   "outputs": [],
   "source": [
    "buah = [\"starwberry\", \"pisang\", \"mangga\", \"jambu\"]\n",
    "\n",
    "for makanan in buah:\n",
    "    print (\"Saya suka makan\", makanan)"
   ]
  },
  {
   "cell_type": "code",
   "execution_count": 1,
   "id": "3823def2",
   "metadata": {},
   "outputs": [
    {
     "name": "stdout",
     "output_type": "stream",
     "text": [
      "[1, 2, -3]\n",
      "[-2, 3, 1]\n",
      "[3, -1, 2]\n"
     ]
    }
   ],
   "source": [
    "row1 = [1,2,-3]\n",
    "row2 = [-2,3,1]\n",
    "row3 = [3,-1,2]\n",
    "\n",
    "for x in row1, row2, row3:\n",
    "    print(x)"
   ]
  },
  {
   "cell_type": "markdown",
   "id": "177a0bff",
   "metadata": {},
   "source": [
    "\n",
    "###### Mengisi List Baru\n",
    "Membuat list berisi angka pangkat 2 dari list angka"
   ]
  },
  {
   "cell_type": "code",
   "execution_count": null,
   "id": "3e2ef216",
   "metadata": {},
   "outputs": [],
   "source": [
    "pangkat2 = []\n",
    "\n",
    "for i in angka:\n",
    "    pangkat2 = i*i\n",
    "    print (pangkat2)"
   ]
  },
  {
   "cell_type": "markdown",
   "id": "90474c7f",
   "metadata": {},
   "source": [
    "\n",
    "## 4. while\n",
    "Pengulangan While Loop di dalam bahasa pemrograman Python dieksesusi statement berkali-kali selama kondisi bernilai benar atau True."
   ]
  },
  {
   "cell_type": "code",
   "execution_count": 23,
   "id": "dbbffb4d",
   "metadata": {},
   "outputs": [],
   "source": [
    "langkah = 1"
   ]
  },
  {
   "cell_type": "code",
   "execution_count": 24,
   "id": "1b530bca",
   "metadata": {},
   "outputs": [
    {
     "name": "stdout",
     "output_type": "stream",
     "text": [
      "langkah ke:  1\n",
      "langkah ke:  2\n",
      "langkah ke:  3\n",
      "langkah ke:  4\n",
      "langkah ke:  5\n",
      "langkah ke:  6\n",
      "langkah ke:  7\n",
      "langkah ke:  8\n"
     ]
    }
   ],
   "source": [
    "while (langkah <= 8):\n",
    "  print (\"langkah ke: \", langkah)\n",
    "  langkah = langkah + 1"
   ]
  },
  {
   "cell_type": "markdown",
   "id": "f980b2f1",
   "metadata": {},
   "source": [
    "###### Fungsi Kuadrat\n",
    "\n",
    "diberi x, dengan y = (x**2) + (2*x) - 15"
   ]
  },
  {
   "cell_type": "code",
   "execution_count": 7,
   "id": "0a64349a",
   "metadata": {},
   "outputs": [
    {
     "name": "stdout",
     "output_type": "stream",
     "text": [
      "x = 0  y = -15\n",
      "x = 1  y = -12\n",
      "x = 2  y = -7\n",
      "x = 3  y = 0\n",
      "x = 4  y = 9\n",
      "x = 5  y = 20\n"
     ]
    }
   ],
   "source": [
    "x = 0\n",
    "while (x <= 5):\n",
    "    y = (x**2)+(2*x)-15\n",
    "    print (\"x =\",x, \" y =\",y)\n",
    "    x = x + 1"
   ]
  },
  {
   "cell_type": "markdown",
   "id": "083f8be9",
   "metadata": {},
   "source": [
    "\n",
    "###### Fungsi Rekursif\n",
    "\n",
    "diberi X0, dengan X(i+1) = 2 * (Xi) + 1"
   ]
  },
  {
   "cell_type": "code",
   "execution_count": 35,
   "id": "156364ab",
   "metadata": {},
   "outputs": [
    {
     "name": "stdout",
     "output_type": "stream",
     "text": [
      "x 1  akan bernilai: 1\n",
      "x 2  akan bernilai: 3\n",
      "x 3  akan bernilai: 7\n",
      "x 4  akan bernilai: 15\n",
      "x 5  akan bernilai: 31\n"
     ]
    }
   ],
   "source": [
    "x0 = 0\n",
    "mulai = 1\n",
    "\n",
    "while (mulai <= 5):\n",
    "    xp = (2*x0)+1\n",
    "    print (\"x\",mulai, \"akan bernilai:\",xp)\n",
    "    mulai = mulai + 1\n",
    "    x0 = xp"
   ]
  },
  {
   "cell_type": "markdown",
   "id": "b926de08",
   "metadata": {},
   "source": [
    "\n",
    "## 5. Nasted Loop\n",
    "Bahasa pemrograman Python memungkinkan penggunaan satu lingkaran di dalam loop lain. Bagian berikut menunjukkan beberapa contoh untuk menggambarkan konsep tersebut."
   ]
  },
  {
   "cell_type": "code",
   "execution_count": 4,
   "id": "8181cebc",
   "metadata": {},
   "outputs": [
    {
     "name": "stdout",
     "output_type": "stream",
     "text": [
      "5 adalah bilangan prima\n",
      "7 adalah bilangan prima\n",
      "11 adalah bilangan prima\n",
      "13 adalah bilangan prima\n",
      "17 adalah bilangan prima\n",
      "19 adalah bilangan prima\n",
      "23 adalah bilangan prima\n",
      "29 adalah bilangan prima\n",
      "31 adalah bilangan prima\n",
      "37 adalah bilangan prima\n",
      "41 adalah bilangan prima\n",
      "43 adalah bilangan prima\n",
      "47 adalah bilangan prima\n"
     ]
    }
   ],
   "source": [
    "i = 2\n",
    "while(i < 50):\n",
    "    j = 2\n",
    "    while(j <= (i/j)):\n",
    "        if not(i%j): \n",
    "               break\n",
    "        j = j + 1\n",
    "        if (j > i/j): \n",
    "            print(i, \"adalah bilangan prima\")\n",
    "    i = i + 1"
   ]
  },
  {
   "cell_type": "code",
   "execution_count": null,
   "id": "a34beca6",
   "metadata": {},
   "outputs": [],
   "source": []
  }
 ],
 "metadata": {
  "kernelspec": {
   "display_name": "Python 3 (ipykernel)",
   "language": "python",
   "name": "python3"
  },
  "language_info": {
   "codemirror_mode": {
    "name": "ipython",
    "version": 3
   },
   "file_extension": ".py",
   "mimetype": "text/x-python",
   "name": "python",
   "nbconvert_exporter": "python",
   "pygments_lexer": "ipython3",
   "version": "3.10.9"
  }
 },
 "nbformat": 4,
 "nbformat_minor": 5
}
