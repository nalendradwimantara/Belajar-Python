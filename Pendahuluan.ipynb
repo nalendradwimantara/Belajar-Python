{
 "cells": [
  {
   "cell_type": "markdown",
   "id": "5d94484e",
   "metadata": {},
   "source": [
    " # Pendahuluan\n",
    " Oleh: Nalendra Dwimantara\n",
    " \n",
    " Outline:\n",
    " \n",
    " 1. Membuat variabel pada python\n",
    " 2. Mengenal tipe data\n",
    " 3. Operator pada python"
   ]
  },
  {
   "cell_type": "markdown",
   "id": "eff1fc71",
   "metadata": {},
   "source": [
    "## 1. Membuat Variabel pada python\n",
    "\n",
    "Gunakan Huruf / kata dan diikuti tanda \"=\" serta nilai yang diingankan\n",
    "\n",
    "*(Hindari penggunaan spasi)"
   ]
  },
  {
   "cell_type": "code",
   "execution_count": 1,
   "id": "6c891c96",
   "metadata": {},
   "outputs": [],
   "source": [
    "a = 18\n",
    "b = 3.14\n",
    "Nama_Lengkap = \"Nalendra Dwimantara\"\n",
    "Umur = a"
   ]
  },
  {
   "cell_type": "markdown",
   "id": "602e80ae",
   "metadata": {},
   "source": [
    "cara memanngil variabel yang dibuat dengan menuliskan langsung nama variabel atau menggunakan perintah \"print()\""
   ]
  },
  {
   "cell_type": "code",
   "execution_count": 2,
   "id": "f410ab72",
   "metadata": {},
   "outputs": [
    {
     "data": {
      "text/plain": [
       "18"
      ]
     },
     "execution_count": 2,
     "metadata": {},
     "output_type": "execute_result"
    }
   ],
   "source": [
    "a"
   ]
  },
  {
   "cell_type": "code",
   "execution_count": 3,
   "id": "aedf0c45",
   "metadata": {},
   "outputs": [
    {
     "name": "stdout",
     "output_type": "stream",
     "text": [
      "18\n"
     ]
    }
   ],
   "source": [
    "print(a)"
   ]
  },
  {
   "cell_type": "code",
   "execution_count": 4,
   "id": "b0c2863c",
   "metadata": {},
   "outputs": [
    {
     "data": {
      "text/plain": [
       "'Nalendra Dwimantara'"
      ]
     },
     "execution_count": 4,
     "metadata": {},
     "output_type": "execute_result"
    }
   ],
   "source": [
    "Nama_Lengkap"
   ]
  },
  {
   "cell_type": "code",
   "execution_count": 5,
   "id": "e467616a",
   "metadata": {},
   "outputs": [
    {
     "name": "stdout",
     "output_type": "stream",
     "text": [
      "Nalendra Dwimantara\n"
     ]
    }
   ],
   "source": [
    "print(Nama_Lengkap)"
   ]
  },
  {
   "cell_type": "code",
   "execution_count": 6,
   "id": "dec4becc",
   "metadata": {},
   "outputs": [
    {
     "data": {
      "text/plain": [
       "(18, 3.14, 'Nalendra Dwimantara', 18)"
      ]
     },
     "execution_count": 6,
     "metadata": {},
     "output_type": "execute_result"
    }
   ],
   "source": [
    "a, b, Nama_Lengkap, Umur"
   ]
  },
  {
   "cell_type": "code",
   "execution_count": 12,
   "id": "4ab3fd35",
   "metadata": {},
   "outputs": [
    {
     "name": "stdout",
     "output_type": "stream",
     "text": [
      "5 3.14 Nalendra Dwimantara 18\n"
     ]
    }
   ],
   "source": [
    "print(a, b, Nama_Lengkap, Umur)"
   ]
  },
  {
   "cell_type": "markdown",
   "id": "80e1c2e8",
   "metadata": {},
   "source": [
    "\n",
    "\n",
    "## 2. Mengenal tipe data pada python\n",
    "\n",
    "Berikut ini adalah tipe-tipe data pada python\n",
    "#### a. int (Integer)\n",
    "merupakan tipe data NUMERIK (ANGKA) yang menyatakan bilangan bulat\n",
    "#### b. float\n",
    "merupakan tipe data NUMERIK (ANGKA) yang menyatakan bilangan desimal\n",
    "#### c. str (String)\n",
    "merupakan tipe data yang menyatakan karakter/kalimat bisa berupa huruf atau gabungan huruf-angka-dll (diapit tanda \" atau ')\n",
    "#### d. bool (Boolean)\n",
    "merupakan tipe data yang menyatakan benar TRUE yang bernilai 1, atau salah FALSE yang bernilai 0\n",
    "#### e. list\n",
    "merupakan tipe data yang menyimpan berbagai tipe data dan isinya BISA diubah-ubah\n",
    "#### f. tuple\n",
    "merupakan tipe data yang menyimpan berbagai tipe data dan isinya TIDAK BISA diubah-ubah\n",
    "#### g. dict (Dictionary)\n",
    "merupakan tipe data yang menyimpan berbagai tipe data berupa pasangan penunjuk dan nilainya\n"
   ]
  },
  {
   "cell_type": "code",
   "execution_count": 11,
   "id": "7405fceb",
   "metadata": {},
   "outputs": [],
   "source": [
    "a = 18\n",
    "b = 3.14\n",
    "c = 'belajar python'\n",
    "d = True\n",
    "e = [\"nama\",18,True]\n",
    "f = (Nama_Lengkap, Umur,d)\n",
    "g = {'Nama': Nama_Lengkap,'Umur' : Umur}"
   ]
  },
  {
   "cell_type": "code",
   "execution_count": 8,
   "id": "0e3907a0",
   "metadata": {},
   "outputs": [
    {
     "data": {
      "text/plain": [
       "int"
      ]
     },
     "execution_count": 8,
     "metadata": {},
     "output_type": "execute_result"
    }
   ],
   "source": [
    "type(a)"
   ]
  },
  {
   "cell_type": "code",
   "execution_count": 44,
   "id": "e7abba40",
   "metadata": {},
   "outputs": [
    {
     "data": {
      "text/plain": [
       "float"
      ]
     },
     "execution_count": 44,
     "metadata": {},
     "output_type": "execute_result"
    }
   ],
   "source": [
    "type(b)"
   ]
  },
  {
   "cell_type": "code",
   "execution_count": 9,
   "id": "6c063a61",
   "metadata": {},
   "outputs": [
    {
     "data": {
      "text/plain": [
       "str"
      ]
     },
     "execution_count": 9,
     "metadata": {},
     "output_type": "execute_result"
    }
   ],
   "source": [
    "type(c)"
   ]
  },
  {
   "cell_type": "code",
   "execution_count": 10,
   "id": "5aba6a23",
   "metadata": {},
   "outputs": [
    {
     "data": {
      "text/plain": [
       "bool"
      ]
     },
     "execution_count": 10,
     "metadata": {},
     "output_type": "execute_result"
    }
   ],
   "source": [
    "type(d)"
   ]
  },
  {
   "cell_type": "code",
   "execution_count": 12,
   "id": "82174a82",
   "metadata": {},
   "outputs": [
    {
     "data": {
      "text/plain": [
       "list"
      ]
     },
     "execution_count": 12,
     "metadata": {},
     "output_type": "execute_result"
    }
   ],
   "source": [
    "type(e)"
   ]
  },
  {
   "cell_type": "code",
   "execution_count": 13,
   "id": "daa803a9",
   "metadata": {},
   "outputs": [
    {
     "name": "stdout",
     "output_type": "stream",
     "text": [
      "['nama', 18, True]\n"
     ]
    }
   ],
   "source": [
    "print(e)"
   ]
  },
  {
   "cell_type": "code",
   "execution_count": 14,
   "id": "d2434374",
   "metadata": {},
   "outputs": [],
   "source": [
    "i = [Nama_Lengkap, Umur, d]"
   ]
  },
  {
   "cell_type": "code",
   "execution_count": 15,
   "id": "e5fe9067",
   "metadata": {},
   "outputs": [
    {
     "name": "stdout",
     "output_type": "stream",
     "text": [
      "['Nalendra Dwimantara', 18, True]\n"
     ]
    }
   ],
   "source": [
    "print(i)"
   ]
  },
  {
   "cell_type": "code",
   "execution_count": 64,
   "id": "73812b65",
   "metadata": {},
   "outputs": [
    {
     "data": {
      "text/plain": [
       "tuple"
      ]
     },
     "execution_count": 64,
     "metadata": {},
     "output_type": "execute_result"
    }
   ],
   "source": [
    "type(f)"
   ]
  },
  {
   "cell_type": "code",
   "execution_count": 65,
   "id": "63de3e00",
   "metadata": {},
   "outputs": [
    {
     "name": "stdout",
     "output_type": "stream",
     "text": [
      "('Nalendra Dwimantara', 18, True)\n"
     ]
    }
   ],
   "source": [
    "print(f)"
   ]
  },
  {
   "cell_type": "code",
   "execution_count": 49,
   "id": "e0441b0e",
   "metadata": {},
   "outputs": [
    {
     "data": {
      "text/plain": [
       "dict"
      ]
     },
     "execution_count": 49,
     "metadata": {},
     "output_type": "execute_result"
    }
   ],
   "source": [
    "type(g)"
   ]
  },
  {
   "cell_type": "code",
   "execution_count": 67,
   "id": "36f6cfd2",
   "metadata": {},
   "outputs": [
    {
     "name": "stdout",
     "output_type": "stream",
     "text": [
      "{'Nama': 'Nalendra Dwimantara', 'Umur': 18}\n"
     ]
    }
   ],
   "source": [
    "print(g)"
   ]
  },
  {
   "cell_type": "markdown",
   "id": "001a0956",
   "metadata": {},
   "source": [
    "\n",
    "\n",
    "## 3. Operator pada python\n",
    "\n",
    "Berikut ini adalah operasi hitung pada python\n",
    "\n",
    "#### a. Operator Perbandingan"
   ]
  },
  {
   "cell_type": "code",
   "execution_count": 13,
   "id": "898f3a62",
   "metadata": {},
   "outputs": [
    {
     "name": "stdout",
     "output_type": "stream",
     "text": [
      "a = 18 dan b = 3.14\n",
      "apakah a sama dengan b -> False\n",
      "apakah a tidak sama dengan b -> True\n",
      "apakah a lebih besar dari b -> True\n",
      "apakah a lebih kecil dari b -> False\n",
      "apakah a lebih besar sama dengan b -> True\n",
      "apakah a lebih kecil sama dengan b -> False\n"
     ]
    }
   ],
   "source": [
    "eq = a == b\n",
    "neq = a != b\n",
    "gr = a > b\n",
    "lo = a < b\n",
    "greq = a >= b\n",
    "loeq = a <= b\n",
    "\n",
    "print(\"a =\",a, \"dan b =\",b)\n",
    "print(\"apakah a sama dengan b ->\",eq)\n",
    "print(\"apakah a tidak sama dengan b ->\",neq)\n",
    "print(\"apakah a lebih besar dari b ->\",gr)\n",
    "print(\"apakah a lebih kecil dari b ->\",lo)\n",
    "print(\"apakah a lebih besar sama dengan b ->\",greq)\n",
    "print(\"apakah a lebih kecil sama dengan b ->\",loeq)\n"
   ]
  },
  {
   "cell_type": "markdown",
   "id": "b49218b8",
   "metadata": {},
   "source": [
    "\n",
    "\n",
    "#### b. Operator Aritmatika"
   ]
  },
  {
   "cell_type": "code",
   "execution_count": 16,
   "id": "08fe4dd7",
   "metadata": {},
   "outputs": [
    {
     "name": "stdout",
     "output_type": "stream",
     "text": [
      "a = 18 dan b = 3.14\n",
      "a+b = 21.14\n",
      "a-b = 14.86\n",
      "a*b = 56.52\n",
      "a/b = 5.732484076433121\n",
      "a//b = 5.0\n",
      "a**2 = 324\n",
      "a mod 7 = 4\n"
     ]
    }
   ],
   "source": [
    "jumlah = a+b\n",
    "kurang = a-b\n",
    "kali = a*b\n",
    "bagi = a/b\n",
    "pembulatan = a//b\n",
    "pangkat = a**2\n",
    "mod = a%7\n",
    "\n",
    "print(\"a =\",a, \"dan b =\",b)\n",
    "print(\"a+b =\", jumlah)\n",
    "print(\"a-b =\", kurang)\n",
    "print(\"a*b =\", kali)\n",
    "print(\"a/b =\", bagi)\n",
    "print(\"a//b =\", pembulatan)\n",
    "print(\"a**2 =\", pangkat)\n",
    "print(\"a mod 7 =\", mod)"
   ]
  },
  {
   "cell_type": "code",
   "execution_count": 17,
   "id": "739d9cc7",
   "metadata": {},
   "outputs": [],
   "source": [
    "# Tulis Komentar disini"
   ]
  }
 ],
 "metadata": {
  "kernelspec": {
   "display_name": "Python 3 (ipykernel)",
   "language": "python",
   "name": "python3"
  },
  "language_info": {
   "codemirror_mode": {
    "name": "ipython",
    "version": 3
   },
   "file_extension": ".py",
   "mimetype": "text/x-python",
   "name": "python",
   "nbconvert_exporter": "python",
   "pygments_lexer": "ipython3",
   "version": "3.10.9"
  }
 },
 "nbformat": 4,
 "nbformat_minor": 5
}
