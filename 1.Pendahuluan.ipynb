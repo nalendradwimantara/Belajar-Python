{
 "cells": [
  {
   "cell_type": "markdown",
   "id": "5d94484e",
   "metadata": {},
   "source": [
    " # Pendahuluan\n",
    " Oleh: Nalendra Dwimantara\n",
    " \n",
    " Outline:\n",
    " \n",
    " 1. Membuat variabel pada python\n",
    " 2. Mengenal tipe data\n",
    " 3. Operator pada python"
   ]
  },
  {
   "cell_type": "markdown",
   "id": "eff1fc71",
   "metadata": {},
   "source": [
    "## 1. Membuat Variabel pada python\n",
    "\n",
    "Gunakan Huruf / kata dan diikuti tanda \"=\" serta nilai yang diingankan\n",
    "\n",
    "*(Hindari penggunaan spasi)"
   ]
  },
  {
   "cell_type": "code",
   "execution_count": 1,
   "id": "6c891c96",
   "metadata": {},
   "outputs": [],
   "source": [
    "a = 18\n",
    "angka = 3.14\n",
    "Nama_Lengkap = \"Nalendra Dwimantara\"\n",
    "Umur = a"
   ]
  },
  {
   "cell_type": "markdown",
   "id": "602e80ae",
   "metadata": {},
   "source": [
    "cara memanngil variabel yang dibuat dengan menuliskan langsung nama variabel atau menggunakan perintah \"print()\""
   ]
  },
  {
   "cell_type": "code",
   "execution_count": 2,
   "id": "f410ab72",
   "metadata": {},
   "outputs": [
    {
     "data": {
      "text/plain": [
       "18"
      ]
     },
     "execution_count": 2,
     "metadata": {},
     "output_type": "execute_result"
    }
   ],
   "source": [
    "a"
   ]
  },
  {
   "cell_type": "code",
   "execution_count": 3,
   "id": "aedf0c45",
   "metadata": {},
   "outputs": [
    {
     "name": "stdout",
     "output_type": "stream",
     "text": [
      "18\n"
     ]
    }
   ],
   "source": [
    "print(a)"
   ]
  },
  {
   "cell_type": "code",
   "execution_count": 4,
   "id": "b0c2863c",
   "metadata": {},
   "outputs": [
    {
     "data": {
      "text/plain": [
       "'Nalendra Dwimantara'"
      ]
     },
     "execution_count": 4,
     "metadata": {},
     "output_type": "execute_result"
    }
   ],
   "source": [
    "Nama_Lengkap"
   ]
  },
  {
   "cell_type": "code",
   "execution_count": 5,
   "id": "e467616a",
   "metadata": {},
   "outputs": [
    {
     "name": "stdout",
     "output_type": "stream",
     "text": [
      "Nalendra Dwimantara\n"
     ]
    }
   ],
   "source": [
    "print(Nama_Lengkap)"
   ]
  },
  {
   "cell_type": "code",
   "execution_count": 7,
   "id": "dec4becc",
   "metadata": {},
   "outputs": [
    {
     "data": {
      "text/plain": [
       "(18, 3.14, 'Nalendra Dwimantara', 18)"
      ]
     },
     "execution_count": 7,
     "metadata": {},
     "output_type": "execute_result"
    }
   ],
   "source": [
    "a, angka, Nama_Lengkap, Umur"
   ]
  },
  {
   "cell_type": "code",
   "execution_count": 8,
   "id": "4ab3fd35",
   "metadata": {},
   "outputs": [
    {
     "name": "stdout",
     "output_type": "stream",
     "text": [
      "18 3.14 Nalendra Dwimantara 18\n"
     ]
    }
   ],
   "source": [
    "print(a, angka, Nama_Lengkap, Umur)"
   ]
  },
  {
   "cell_type": "code",
   "execution_count": 9,
   "id": "1f2fce6a",
   "metadata": {},
   "outputs": [
    {
     "name": "stdout",
     "output_type": "stream",
     "text": [
      "Nama saya Nalendra Dwimantara tahun ini saya berumur 18 tahun\n"
     ]
    }
   ],
   "source": [
    "print('Nama saya', Nama_Lengkap, 'tahun ini saya berumur', Umur, \"tahun\")"
   ]
  },
  {
   "cell_type": "code",
   "execution_count": 10,
   "id": "b725f9e0",
   "metadata": {},
   "outputs": [
    {
     "name": "stdout",
     "output_type": "stream",
     "text": [
      "Nama saya Nalendra Dwimantara tahun ini saya berumur 18 tahun\n"
     ]
    }
   ],
   "source": [
    "print(f'Nama saya {Nama_Lengkap} tahun ini saya berumur {Umur} tahun')"
   ]
  },
  {
   "cell_type": "markdown",
   "id": "8a4ad4b8",
   "metadata": {},
   "source": [
    "#### Tugas 1\n",
    "\n",
    "gelas1 berisi kopi\n",
    "\n",
    "gelas2 berisi susu\n",
    "\n",
    "Bagaimana cara menukar isi gelas dimana gelas1 berisi susu dan gelas2 berisi kopi?"
   ]
  },
  {
   "cell_type": "markdown",
   "id": "d58790fd",
   "metadata": {},
   "source": [
    "### Bonus\n",
    "\n",
    "Kita dapat membuat variabel menggunakan fungsi input()"
   ]
  },
  {
   "cell_type": "code",
   "execution_count": 11,
   "id": "6bd54921",
   "metadata": {},
   "outputs": [
    {
     "name": "stdout",
     "output_type": "stream",
     "text": [
      "Masukan nama Hewan: kuda\n",
      "Jumlah kaki: 4\n",
      "jumlah kaki kuda adalah 4\n"
     ]
    }
   ],
   "source": [
    "hewan = input(\"Masukan nama Hewan: \")\n",
    "kaki = input(\"Jumlah kaki: \")\n",
    "print(\"jumlah kaki\", hewan, \"adalah\", kaki)"
   ]
  },
  {
   "cell_type": "markdown",
   "id": "a9aebf80",
   "metadata": {},
   "source": [
    "***************"
   ]
  },
  {
   "cell_type": "markdown",
   "id": "80e1c2e8",
   "metadata": {},
   "source": [
    "\n",
    "\n",
    "## 2. Mengenal tipe data pada python\n",
    "\n",
    "Berikut ini adalah tipe-tipe data pada python\n",
    "\n",
    "**a. int (Integer)** merupakan tipe data *NUMERIK (ANGKA)* yang menyatakan bilangan bulat\n",
    "\n",
    "**b. float** merupakan tipe data *NUMERIK (ANGKA)* yang menyatakan bilangan desimal\n",
    "\n",
    "**c. str (String)** merupakan tipe data yang menyatakan karakter/kalimat bisa berupa huruf atau gabungan huruf-angka-dll (diapit tanda \" atau ')\n",
    "\n",
    "**d. bool (Boolean)** merupakan tipe data yang menyatakan benar *TRUE* yang bernilai 1, atau salah *FALSE* yang bernilai 0\n",
    "\n",
    "**e. list** merupakan tipe data yang menyimpan berbagai tipe data dan isinya *BISA* diubah-ubah\n",
    "\n",
    "**f. tuple** merupakan tipe data yang menyimpan berbagai tipe data dan isinya *TIDAK BISA* diubah-ubah\n",
    "\n",
    "**g. dict (Dictionary)** merupakan tipe data yang menyimpan berbagai tipe data berupa pasangan penunjuk dan nilainya\n"
   ]
  },
  {
   "cell_type": "code",
   "execution_count": 12,
   "id": "7405fceb",
   "metadata": {},
   "outputs": [],
   "source": [
    "a = 18\n",
    "b = 3.14\n",
    "c = 'belajar python'\n",
    "d = True\n",
    "e = [\"nama\",18,True]\n",
    "f = (Nama_Lengkap, Umur,d)\n",
    "g = {'Nama': Nama_Lengkap,'Umur' : Umur}"
   ]
  },
  {
   "cell_type": "markdown",
   "id": "7e8fa646",
   "metadata": {},
   "source": [
    "Cara mengetahui tipe data dengan menggunakan fungsi **type(nama_variable)**"
   ]
  },
  {
   "cell_type": "code",
   "execution_count": 13,
   "id": "0e3907a0",
   "metadata": {},
   "outputs": [
    {
     "data": {
      "text/plain": [
       "int"
      ]
     },
     "execution_count": 13,
     "metadata": {},
     "output_type": "execute_result"
    }
   ],
   "source": [
    "type(a)"
   ]
  },
  {
   "cell_type": "code",
   "execution_count": 14,
   "id": "e7abba40",
   "metadata": {},
   "outputs": [
    {
     "data": {
      "text/plain": [
       "(float, str, bool, list, tuple, dict)"
      ]
     },
     "execution_count": 14,
     "metadata": {},
     "output_type": "execute_result"
    }
   ],
   "source": [
    "(type(b), type(c), type(d), type(e), type(f), type(g))"
   ]
  },
  {
   "cell_type": "markdown",
   "id": "1139c9e0",
   "metadata": {},
   "source": [
    "Tipe data jika kita menggunakan fungsi **input()** adalah *string*"
   ]
  },
  {
   "cell_type": "code",
   "execution_count": 15,
   "id": "ddd6cdda",
   "metadata": {},
   "outputs": [
    {
     "name": "stdout",
     "output_type": "stream",
     "text": [
      "masukan angka :3\n"
     ]
    }
   ],
   "source": [
    "angka = input(\"masukan angka :\")"
   ]
  },
  {
   "cell_type": "code",
   "execution_count": 16,
   "id": "3527dee5",
   "metadata": {},
   "outputs": [
    {
     "data": {
      "text/plain": [
       "str"
      ]
     },
     "execution_count": 16,
     "metadata": {},
     "output_type": "execute_result"
    }
   ],
   "source": [
    "type(angka)"
   ]
  },
  {
   "cell_type": "code",
   "execution_count": 17,
   "id": "6fb9a265",
   "metadata": {},
   "outputs": [
    {
     "name": "stdout",
     "output_type": "stream",
     "text": [
      "3\n"
     ]
    }
   ],
   "source": [
    "print(angka)"
   ]
  },
  {
   "cell_type": "code",
   "execution_count": 18,
   "id": "301a4477",
   "metadata": {},
   "outputs": [
    {
     "data": {
      "text/plain": [
       "'3'"
      ]
     },
     "execution_count": 18,
     "metadata": {},
     "output_type": "execute_result"
    }
   ],
   "source": [
    "angka"
   ]
  },
  {
   "cell_type": "markdown",
   "id": "90887cfa",
   "metadata": {},
   "source": [
    "Cara merubah tipe data"
   ]
  },
  {
   "cell_type": "code",
   "execution_count": 19,
   "id": "1fecb924",
   "metadata": {},
   "outputs": [],
   "source": [
    "bulat = int(angka)"
   ]
  },
  {
   "cell_type": "code",
   "execution_count": 20,
   "id": "a224a14b",
   "metadata": {},
   "outputs": [
    {
     "data": {
      "text/plain": [
       "int"
      ]
     },
     "execution_count": 20,
     "metadata": {},
     "output_type": "execute_result"
    }
   ],
   "source": [
    "type(bulat)"
   ]
  },
  {
   "cell_type": "code",
   "execution_count": 21,
   "id": "f5768446",
   "metadata": {},
   "outputs": [
    {
     "data": {
      "text/plain": [
       "3"
      ]
     },
     "execution_count": 21,
     "metadata": {},
     "output_type": "execute_result"
    }
   ],
   "source": [
    "bulat"
   ]
  },
  {
   "cell_type": "code",
   "execution_count": 22,
   "id": "a09ff180",
   "metadata": {},
   "outputs": [],
   "source": [
    "rasional = float(angka)"
   ]
  },
  {
   "cell_type": "code",
   "execution_count": 23,
   "id": "0c1a3362",
   "metadata": {},
   "outputs": [
    {
     "data": {
      "text/plain": [
       "float"
      ]
     },
     "execution_count": 23,
     "metadata": {},
     "output_type": "execute_result"
    }
   ],
   "source": [
    "type(rasional)"
   ]
  },
  {
   "cell_type": "code",
   "execution_count": 24,
   "id": "d1f752fa",
   "metadata": {},
   "outputs": [
    {
     "data": {
      "text/plain": [
       "3.0"
      ]
     },
     "execution_count": 24,
     "metadata": {},
     "output_type": "execute_result"
    }
   ],
   "source": [
    "rasional"
   ]
  },
  {
   "cell_type": "markdown",
   "id": "f7443e90",
   "metadata": {},
   "source": [
    "#### Tugas 2\n",
    "\n",
    "buat variabel dengan fungsi input() dimana\n",
    "\n",
    "bil_bulat diisi oleh bilangan bulat\n",
    "\n",
    "bil_rasional diisi oleh bilangan rasional\n",
    "\n",
    "sehingga ketika dicek tipe datanya diperoleh\n",
    "\n",
    "type(bil_bulat) adalah int\n",
    "\n",
    "type(bil_rasional) adalah float"
   ]
  },
  {
   "cell_type": "markdown",
   "id": "b275ca75",
   "metadata": {},
   "source": [
    "### Bonus\n",
    "\n",
    "fungsi **input.split()** untuk memisah string yang dibuat oleh fungsi **input()** yang dipisah oleh *SPACE (spasi)* hasilnya berupa *list*"
   ]
  },
  {
   "cell_type": "code",
   "execution_count": 25,
   "id": "c3a1c063",
   "metadata": {},
   "outputs": [
    {
     "name": "stdout",
     "output_type": "stream",
     "text": [
      "masukan angka :1 2 3 4 5 6\n"
     ]
    }
   ],
   "source": [
    "angka = input(\"masukan angka :\")"
   ]
  },
  {
   "cell_type": "code",
   "execution_count": 26,
   "id": "26488d31",
   "metadata": {},
   "outputs": [
    {
     "data": {
      "text/plain": [
       "'1 2 3 4 5 6'"
      ]
     },
     "execution_count": 26,
     "metadata": {},
     "output_type": "execute_result"
    }
   ],
   "source": [
    "angka"
   ]
  },
  {
   "cell_type": "code",
   "execution_count": 27,
   "id": "6918f465",
   "metadata": {},
   "outputs": [
    {
     "data": {
      "text/plain": [
       "str"
      ]
     },
     "execution_count": 27,
     "metadata": {},
     "output_type": "execute_result"
    }
   ],
   "source": [
    "type(angka)"
   ]
  },
  {
   "cell_type": "code",
   "execution_count": 28,
   "id": "4f874879",
   "metadata": {},
   "outputs": [],
   "source": [
    "angka = angka.split()"
   ]
  },
  {
   "cell_type": "code",
   "execution_count": 29,
   "id": "3be6894c",
   "metadata": {},
   "outputs": [
    {
     "data": {
      "text/plain": [
       "list"
      ]
     },
     "execution_count": 29,
     "metadata": {},
     "output_type": "execute_result"
    }
   ],
   "source": [
    "type(angka)"
   ]
  },
  {
   "cell_type": "code",
   "execution_count": 30,
   "id": "62f24fb4",
   "metadata": {},
   "outputs": [
    {
     "data": {
      "text/plain": [
       "['1', '2', '3', '4', '5', '6']"
      ]
     },
     "execution_count": 30,
     "metadata": {},
     "output_type": "execute_result"
    }
   ],
   "source": [
    "angka"
   ]
  },
  {
   "cell_type": "markdown",
   "id": "0245b4b0",
   "metadata": {},
   "source": [
    "****************"
   ]
  },
  {
   "cell_type": "markdown",
   "id": "001a0956",
   "metadata": {},
   "source": [
    "\n",
    "\n",
    "## 3. Operator pada python\n",
    "\n",
    "Berikut ini adalah operasi hitung pada python\n",
    "\n",
    "#### a. Operator Perbandingan"
   ]
  },
  {
   "cell_type": "code",
   "execution_count": 23,
   "id": "898f3a62",
   "metadata": {},
   "outputs": [
    {
     "name": "stdout",
     "output_type": "stream",
     "text": [
      "a = 18 dan b = 3.14\n",
      "apakah a sama dengan b -> False\n",
      "apakah a tidak sama dengan b -> True\n",
      "apakah a lebih besar dari b -> True\n",
      "apakah a lebih kecil dari b -> False\n",
      "apakah a lebih besar sama dengan b -> True\n",
      "apakah a lebih kecil sama dengan b -> False\n"
     ]
    }
   ],
   "source": [
    "eq = a == b\n",
    "neq = a != b\n",
    "gr = a > b\n",
    "lo = a < b\n",
    "greq = a >= b\n",
    "loeq = a <= b\n",
    "\n",
    "print(\"a =\",a, \"dan b =\",b)\n",
    "print(\"apakah a sama dengan b ->\",eq)\n",
    "print(\"apakah a tidak sama dengan b ->\",neq)\n",
    "print(\"apakah a lebih besar dari b ->\",gr)\n",
    "print(\"apakah a lebih kecil dari b ->\",lo)\n",
    "print(\"apakah a lebih besar sama dengan b ->\",greq)\n",
    "print(\"apakah a lebih kecil sama dengan b ->\",loeq)\n"
   ]
  },
  {
   "cell_type": "markdown",
   "id": "6c136ddd",
   "metadata": {},
   "source": [
    "### Bonus\n",
    "\n",
    "**not** Negasi \n",
    "\n",
    "**and** Keluaran hanya TRUE jika semua input bernilai TRUE. Jika salah satu input FALSE, keluaran akan FALSE. \n",
    "\n",
    "**or** Keluaran akan TRUE jika ada satu atau lebih input yang TRUE. Jika semua input FALSE, keluaran akan FALSE.\n"
   ]
  },
  {
   "cell_type": "code",
   "execution_count": 32,
   "id": "4c01d75f",
   "metadata": {},
   "outputs": [],
   "source": [
    "p = 5"
   ]
  },
  {
   "cell_type": "code",
   "execution_count": 33,
   "id": "23be0112",
   "metadata": {},
   "outputs": [
    {
     "data": {
      "text/plain": [
       "True"
      ]
     },
     "execution_count": 33,
     "metadata": {},
     "output_type": "execute_result"
    }
   ],
   "source": [
    "p > 3"
   ]
  },
  {
   "cell_type": "code",
   "execution_count": 34,
   "id": "a8916049",
   "metadata": {},
   "outputs": [
    {
     "data": {
      "text/plain": [
       "False"
      ]
     },
     "execution_count": 34,
     "metadata": {},
     "output_type": "execute_result"
    }
   ],
   "source": [
    "not p > 3"
   ]
  },
  {
   "cell_type": "code",
   "execution_count": 35,
   "id": "5d060414",
   "metadata": {},
   "outputs": [
    {
     "data": {
      "text/plain": [
       "True"
      ]
     },
     "execution_count": 35,
     "metadata": {},
     "output_type": "execute_result"
    }
   ],
   "source": [
    "p >= 3 and p <= 7"
   ]
  },
  {
   "cell_type": "code",
   "execution_count": 36,
   "id": "0ff7f3a5",
   "metadata": {},
   "outputs": [
    {
     "data": {
      "text/plain": [
       "True"
      ]
     },
     "execution_count": 36,
     "metadata": {},
     "output_type": "execute_result"
    }
   ],
   "source": [
    "p >= 3 or p <= 7"
   ]
  },
  {
   "cell_type": "markdown",
   "id": "b49218b8",
   "metadata": {},
   "source": [
    "\n",
    "\n",
    "#### b. Operator Aritmatika"
   ]
  },
  {
   "cell_type": "code",
   "execution_count": 37,
   "id": "08fe4dd7",
   "metadata": {},
   "outputs": [
    {
     "name": "stdout",
     "output_type": "stream",
     "text": [
      "a = 18 dan b = 3.14\n",
      "a+b = 21.14\n",
      "a-b = 14.86\n",
      "a*b = 56.52\n",
      "a/b = 5.732484076433121\n",
      "a//b = 5.0\n",
      "a**2 = 324\n",
      "a mod 7 = 4\n"
     ]
    }
   ],
   "source": [
    "jumlah = a+b\n",
    "kurang = a-b\n",
    "kali = a*b\n",
    "bagi = a/b\n",
    "pembulatan = a//b\n",
    "pangkat = a**2\n",
    "mod = a%7\n",
    "\n",
    "print(\"a =\",a, \"dan b =\",b)\n",
    "print(\"a+b =\", jumlah)\n",
    "print(\"a-b =\", kurang)\n",
    "print(\"a*b =\", kali)\n",
    "print(\"a/b =\", bagi)\n",
    "print(\"a//b =\", pembulatan)\n",
    "print(\"a**2 =\", pangkat)\n",
    "print(\"a mod 7 =\", mod)"
   ]
  },
  {
   "cell_type": "markdown",
   "id": "48f22475",
   "metadata": {},
   "source": [
    "#### Tugas 3\n",
    "\n",
    "Buatkan program yang dapat memeriksa apakah (x . y) > (x + y) dengan x dan y anggota bilangan bulat"
   ]
  },
  {
   "cell_type": "markdown",
   "id": "114b98d7",
   "metadata": {},
   "source": [
    "****"
   ]
  },
  {
   "cell_type": "markdown",
   "id": "dac8770b",
   "metadata": {},
   "source": [
    "## Pembahasan"
   ]
  },
  {
   "cell_type": "markdown",
   "id": "a67846e2",
   "metadata": {},
   "source": [
    "#### Tugas 1"
   ]
  },
  {
   "cell_type": "code",
   "execution_count": 38,
   "id": "29e9b33c",
   "metadata": {},
   "outputs": [
    {
     "name": "stdout",
     "output_type": "stream",
     "text": [
      "gelas1 berisi  susu\n",
      "gelas2 berisi  kopi\n"
     ]
    }
   ],
   "source": [
    "gelas1 = \"kopi\"\n",
    "gelas2 = \"susu\"\n",
    "\n",
    "gelas3 = gelas1\n",
    "gelas1 = gelas2\n",
    "gelas2 = gelas3\n",
    "\n",
    "print(\"gelas1 berisi \", gelas1)\n",
    "print(\"gelas2 berisi \", gelas2)"
   ]
  },
  {
   "cell_type": "markdown",
   "id": "14190ec0",
   "metadata": {},
   "source": [
    "#### Tugas 2"
   ]
  },
  {
   "cell_type": "code",
   "execution_count": 39,
   "id": "97876db6",
   "metadata": {},
   "outputs": [
    {
     "name": "stdout",
     "output_type": "stream",
     "text": [
      "masukan bilangan bulat : 3\n",
      "masukan bilangan rasional : 2.7\n"
     ]
    }
   ],
   "source": [
    "bil_bulat = int(input(\"masukan bilangan bulat : \"))\n",
    "bil_rasional = float(input(\"masukan bilangan rasional : \"))"
   ]
  },
  {
   "cell_type": "code",
   "execution_count": 40,
   "id": "60afa98f",
   "metadata": {},
   "outputs": [
    {
     "data": {
      "text/plain": [
       "int"
      ]
     },
     "execution_count": 40,
     "metadata": {},
     "output_type": "execute_result"
    }
   ],
   "source": [
    "type(bil_bulat)"
   ]
  },
  {
   "cell_type": "code",
   "execution_count": 41,
   "id": "7a050802",
   "metadata": {},
   "outputs": [
    {
     "data": {
      "text/plain": [
       "float"
      ]
     },
     "execution_count": 41,
     "metadata": {},
     "output_type": "execute_result"
    }
   ],
   "source": [
    "type(bil_rasional)"
   ]
  },
  {
   "cell_type": "markdown",
   "id": "47cd0579",
   "metadata": {},
   "source": [
    "#### Tugas 3"
   ]
  },
  {
   "cell_type": "code",
   "execution_count": 51,
   "id": "5bc8acd6",
   "metadata": {},
   "outputs": [
    {
     "name": "stdout",
     "output_type": "stream",
     "text": [
      "masukan bilangan bulat : -2\n",
      "masukan bilangan bulat : 3\n",
      "\n",
      "(x . y) = -6 dan (x + b) = 1\n",
      "\n",
      "apakah (x . y) > (x + b) ? False\n"
     ]
    }
   ],
   "source": [
    "x = int(input(\"masukan bilangan bulat : \"))\n",
    "y = int(input(\"masukan bilangan bulat : \"))\n",
    "print()\n",
    "perkalian = x*y\n",
    "penjumlahan = x+y\n",
    "banding = perkalian >= penjumlahan\n",
    "\n",
    "print(\"(x . y) =\", perkalian, \"dan (x + b) =\", penjumlahan)\n",
    "print()\n",
    "print('apakah (x . y) > (x + b) ?', banding)"
   ]
  },
  {
   "cell_type": "code",
   "execution_count": null,
   "id": "8ab3d1f6",
   "metadata": {},
   "outputs": [],
   "source": []
  }
 ],
 "metadata": {
  "kernelspec": {
   "display_name": "Python 3 (ipykernel)",
   "language": "python",
   "name": "python3"
  },
  "language_info": {
   "codemirror_mode": {
    "name": "ipython",
    "version": 3
   },
   "file_extension": ".py",
   "mimetype": "text/x-python",
   "name": "python",
   "nbconvert_exporter": "python",
   "pygments_lexer": "ipython3",
   "version": "3.10.9"
  }
 },
 "nbformat": 4,
 "nbformat_minor": 5
}
