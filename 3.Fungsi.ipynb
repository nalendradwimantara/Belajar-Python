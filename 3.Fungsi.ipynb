{
 "cells": [
  {
   "cell_type": "markdown",
   "id": "508e4715",
   "metadata": {},
   "source": [
    "# Function\n",
    " Oleh: Nalendra Dwimantara\n",
    " \n",
    "Fungsi adalah blok kode terorganisir dan dapat digunakan kembali untuk melakukan sebuah tindakan/action. Fungsi memberikan modularitas yang lebih baik untuk aplikasi Anda dan tingkat penggunaan kode yang tinggi."
   ]
  },
  {
   "cell_type": "markdown",
   "id": "484f161e",
   "metadata": {},
   "source": [
    "\n",
    "###### Akar Kuadrat\n",
    "\n",
    "Membuat operasi akar kuadrat"
   ]
  },
  {
   "cell_type": "code",
   "execution_count": 48,
   "id": "45325ac6",
   "metadata": {},
   "outputs": [],
   "source": [
    "def sqrt(x):\n",
    "    akar = x**(1/2)\n",
    "    return akar"
   ]
  },
  {
   "cell_type": "code",
   "execution_count": 49,
   "id": "8c142a8a",
   "metadata": {},
   "outputs": [
    {
     "data": {
      "text/plain": [
       "2.0"
      ]
     },
     "execution_count": 49,
     "metadata": {},
     "output_type": "execute_result"
    }
   ],
   "source": [
    "sqrt(4)"
   ]
  },
  {
   "cell_type": "markdown",
   "id": "72589768",
   "metadata": {},
   "source": [
    "\n",
    "###### Fungsi Kuadrat\n",
    "\n",
    "diberi x, dengan y = (x**2) + (2*x) - 15"
   ]
  },
  {
   "cell_type": "code",
   "execution_count": 2,
   "id": "c87d0da8",
   "metadata": {},
   "outputs": [],
   "source": [
    "def kuadratik(x):\n",
    "    y = (x**2)+(2*x)-15\n",
    "    print (\"jika x=\",x ,\"maka y=\",y)\n",
    "    return"
   ]
  },
  {
   "cell_type": "code",
   "execution_count": 3,
   "id": "7ff5304b",
   "metadata": {
    "scrolled": true
   },
   "outputs": [
    {
     "name": "stdout",
     "output_type": "stream",
     "text": [
      "jika x= 3 maka y= 0\n"
     ]
    }
   ],
   "source": [
    "kuadratik(x = 3)"
   ]
  },
  {
   "cell_type": "markdown",
   "id": "dce9b3e3",
   "metadata": {},
   "source": [
    "\n",
    "###### function dan while \n",
    "\n",
    "diberi x, dengan y = (x**2) + (2*x) - 15. tentukan y pada selang x[0,5]"
   ]
  },
  {
   "cell_type": "code",
   "execution_count": 9,
   "id": "cecc9231",
   "metadata": {},
   "outputs": [],
   "source": [
    "def kuadratik2(xawal, xakhir):\n",
    "    while (xawal <= xakhir):\n",
    "        y = (xawal**2)+(2*xawal)-15\n",
    "        print (\"x =\",xawal, \" y =\",y)\n",
    "        xawal = xawal + 1\n",
    "    return"
   ]
  },
  {
   "cell_type": "code",
   "execution_count": 10,
   "id": "4233e6db",
   "metadata": {},
   "outputs": [
    {
     "name": "stdout",
     "output_type": "stream",
     "text": [
      "x = 0  y = -15\n",
      "x = 1  y = -12\n",
      "x = 2  y = -7\n",
      "x = 3  y = 0\n",
      "x = 4  y = 9\n",
      "x = 5  y = 20\n"
     ]
    }
   ],
   "source": [
    "kuadratik2(xawal = 0, xakhir = 5)"
   ]
  },
  {
   "cell_type": "markdown",
   "id": "ef786ab6",
   "metadata": {},
   "source": [
    "\n",
    "###### Fungsi rekursif\n",
    "\n",
    "diberi X0, dengan X(i+1) = 2 * (Xi) + 1"
   ]
  },
  {
   "cell_type": "code",
   "execution_count": 15,
   "id": "df26aaab",
   "metadata": {},
   "outputs": [],
   "source": [
    "def rekursif(x0, i_awal, i_akhir):\n",
    "    while (i_awal <= i_akhir):\n",
    "        xp = (2*x0)+1\n",
    "        print (\"x\",i_awal, \" akan bernilai:\",xp)\n",
    "        i_awal = i_awal + 1\n",
    "        x0 = xp\n",
    "    return"
   ]
  },
  {
   "cell_type": "code",
   "execution_count": 17,
   "id": "80dd072f",
   "metadata": {},
   "outputs": [
    {
     "name": "stdout",
     "output_type": "stream",
     "text": [
      "x 1  akan bernilai: 1\n",
      "x 2  akan bernilai: 3\n",
      "x 3  akan bernilai: 7\n",
      "x 4  akan bernilai: 15\n",
      "x 5  akan bernilai: 31\n"
     ]
    }
   ],
   "source": [
    "rekursif(x0 = 0, i_awal = 1, i_akhir = 5)"
   ]
  },
  {
   "cell_type": "markdown",
   "id": "57912819",
   "metadata": {},
   "source": [
    "\n",
    "###### Phytagoras\n",
    "\n",
    "Segitiga Siku-siku dengan a = sisi vertikal, b = sisi horizontal, c = sisi miring "
   ]
  },
  {
   "cell_type": "code",
   "execution_count": 53,
   "id": "c2dd7667",
   "metadata": {},
   "outputs": [],
   "source": [
    "def pythagoras(a = 0, b = 0, c = 0):\n",
    "    if (a == 0):\n",
    "        a = sqrt((c**2) - (b**2))\n",
    "        print(\"a=\", a)\n",
    "    elif (b == 0):\n",
    "        b = sqrt((c**2) - (a**2))\n",
    "        print(\"b=\",b)\n",
    "    elif (c == 0):\n",
    "        c = sqrt((a**2) + (b**2))\n",
    "        print(\"c=\",c)\n",
    "    return"
   ]
  },
  {
   "cell_type": "code",
   "execution_count": 55,
   "id": "60506884",
   "metadata": {},
   "outputs": [
    {
     "name": "stdout",
     "output_type": "stream",
     "text": [
      "c= 5.0\n"
     ]
    }
   ],
   "source": [
    "pythagoras(a = 3, b = 4)"
   ]
  },
  {
   "cell_type": "code",
   "execution_count": null,
   "id": "a02b9422",
   "metadata": {},
   "outputs": [],
   "source": []
  }
 ],
 "metadata": {
  "kernelspec": {
   "display_name": "Python 3 (ipykernel)",
   "language": "python",
   "name": "python3"
  },
  "language_info": {
   "codemirror_mode": {
    "name": "ipython",
    "version": 3
   },
   "file_extension": ".py",
   "mimetype": "text/x-python",
   "name": "python",
   "nbconvert_exporter": "python",
   "pygments_lexer": "ipython3",
   "version": "3.10.9"
  }
 },
 "nbformat": 4,
 "nbformat_minor": 5
}
